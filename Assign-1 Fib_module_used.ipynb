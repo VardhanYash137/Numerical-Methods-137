{
 "cells": [
  {
   "cell_type": "code",
   "execution_count": 7,
   "id": "37231c40",
   "metadata": {},
   "outputs": [
    {
     "name": "stdout",
     "output_type": "stream",
     "text": [
      "[1.00000000e+00 1.00000000e+00 2.00000000e+00 3.00000000e+00\n",
      " 5.00000000e+00 8.00000000e+00 1.30000000e+01 2.10000000e+01\n",
      " 3.40000000e+01 5.50000000e+01 8.90000000e+01 1.44000000e+02\n",
      " 2.33000000e+02 3.77000000e+02 6.10000000e+02 9.87000000e+02\n",
      " 1.59700000e+03 2.58400000e+03 4.18100000e+03 6.76500000e+03\n",
      " 1.09460000e+04 1.77110000e+04 2.86570000e+04 4.63680000e+04\n",
      " 7.50250000e+04 1.21393000e+05 1.96418000e+05 3.17811000e+05\n",
      " 5.14229000e+05 8.32040000e+05 1.34626900e+06 2.17830900e+06\n",
      " 3.52457800e+06 5.70288700e+06 9.22746500e+06 1.49303520e+07\n",
      " 2.41578170e+07 3.90881690e+07 6.32459860e+07 1.02334155e+08\n",
      " 1.65580141e+08 2.67914296e+08 4.33494437e+08 7.01408733e+08\n",
      " 1.13490317e+09 1.83631190e+09 2.97121507e+09 4.80752698e+09\n",
      " 7.77874205e+09 1.25862690e+10 2.03650111e+10 3.29512801e+10\n",
      " 5.33162912e+10 8.62675713e+10 1.39583862e+11 2.25851434e+11\n",
      " 3.65435296e+11 5.91286730e+11 9.56722026e+11 1.54800876e+12\n",
      " 2.50473078e+12 4.05273954e+12 6.55747032e+12 1.06102099e+13\n",
      " 1.71676802e+13 2.77778900e+13 4.49455702e+13 7.27234602e+13\n",
      " 1.17669030e+14 1.90392491e+14 3.08061521e+14 4.98454012e+14\n",
      " 8.06515533e+14 1.30496954e+15 2.11148508e+15 3.41645462e+15\n",
      " 5.52793970e+15 8.94439432e+15 1.44723340e+16 2.34167283e+16\n",
      " 3.78890624e+16 6.13057907e+16 9.91948531e+16 1.60500644e+17\n",
      " 2.59695497e+17 4.20196141e+17 6.79891638e+17 1.10008778e+18\n",
      " 1.77997942e+18 2.88006719e+18 4.66004661e+18 7.54011380e+18\n",
      " 1.22001604e+19 1.97402742e+19 3.19404346e+19 5.16807089e+19\n",
      " 8.36211435e+19 1.35301852e+20 2.18922996e+20 3.54224848e+20]\n",
      "\n",
      "Time taken to produce 100 Fibonacci numbers: 8.710000838618726e-05 seconds\n"
     ]
    }
   ],
   "source": [
    "from fib_module import fib_series\n",
    "import timeit\n",
    "\n",
    "print(fib_series(100))\n",
    "print()\n",
    "# Measure the time it takes to produce 100 Fibonacci numbers\n",
    "time_taken = timeit.timeit(lambda: fib_series(100), number=1)\n",
    "print(f\"Time taken to produce 100 Fibonacci numbers: {time_taken} seconds\")\n"
   ]
  },
  {
   "cell_type": "code",
   "execution_count": null,
   "id": "b5555e1b",
   "metadata": {},
   "outputs": [],
   "source": []
  }
 ],
 "metadata": {
  "kernelspec": {
   "display_name": "Python 3 (ipykernel)",
   "language": "python",
   "name": "python3"
  },
  "language_info": {
   "codemirror_mode": {
    "name": "ipython",
    "version": 3
   },
   "file_extension": ".py",
   "mimetype": "text/x-python",
   "name": "python",
   "nbconvert_exporter": "python",
   "pygments_lexer": "ipython3",
   "version": "3.11.3"
  }
 },
 "nbformat": 4,
 "nbformat_minor": 5
}
