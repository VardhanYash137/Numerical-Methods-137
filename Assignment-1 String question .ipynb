{
 "cells": [
  {
   "cell_type": "code",
   "execution_count": 5,
   "id": "9e21fadd",
   "metadata": {},
   "outputs": [
    {
     "name": "stdout",
     "output_type": "stream",
     "text": [
      "Characters and their Unicode code points (using for loop):\n",
      "m: 109\n",
      "u: 117\n",
      "m: 109\n",
      "b: 98\n",
      "a: 97\n",
      "i: 105\n",
      "\n",
      "Sum of Unicode code points: 635\n",
      "List of Unicode code points using list comprehension: [109, 117, 109, 98, 97, 105]\n",
      "List of Unicode code points using map class: [109, 117, 109, 98, 97, 105]\n"
     ]
    }
   ],
   "source": [
    "# String\n",
    "S = 'mumbai'\n",
    "\n",
    "# Print each character and its Unicode code point\n",
    "print(\"Characters and their Unicode code points (using for loop):\")\n",
    "for char in S:\n",
    "    code_point = ord(char)\n",
    "    print(f\"{char}: {code_point}\")\n",
    "\n",
    "# Compute the sum of Unicode code points\n",
    "sum_of_code_points = 0\n",
    "for char in S:\n",
    "    sum_of_code_points += ord(char)\n",
    "print(\"\\nSum of Unicode code points:\", sum_of_code_points)\n",
    "\n",
    "\n",
    "# Using list comprehension to create a list of Unicode code points\n",
    "unicode_list_comprehension = [ord(char) for char in S]\n",
    "print(\"List of Unicode code points using list comprehension:\", unicode_list_comprehension)\n",
    "\n",
    "# Using the map class to create a list of Unicode code points\n",
    "unicode_map_class = list(map(ord, S))\n",
    "print(\"List of Unicode code points using map class:\", unicode_map_class)\n"
   ]
  },
  {
   "cell_type": "code",
   "execution_count": null,
   "id": "f70d8e56",
   "metadata": {},
   "outputs": [],
   "source": []
  }
 ],
 "metadata": {
  "kernelspec": {
   "display_name": "Python 3 (ipykernel)",
   "language": "python",
   "name": "python3"
  },
  "language_info": {
   "codemirror_mode": {
    "name": "ipython",
    "version": 3
   },
   "file_extension": ".py",
   "mimetype": "text/x-python",
   "name": "python",
   "nbconvert_exporter": "python",
   "pygments_lexer": "ipython3",
   "version": "3.11.3"
  }
 },
 "nbformat": 4,
 "nbformat_minor": 5
}
